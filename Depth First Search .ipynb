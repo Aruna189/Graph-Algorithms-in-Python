{
 "cells": [
  {
   "cell_type": "markdown",
   "id": "38b11e59",
   "metadata": {},
   "source": [
    "## Depth First Search "
   ]
  },
  {
   "cell_type": "code",
   "execution_count": 7,
   "id": "52d0b187",
   "metadata": {},
   "outputs": [],
   "source": [
    "from collections import defaultdict\n",
    "class Graph:\n",
    "    \n",
    "    def __init__(self):\n",
    "        self.graph = defaultdict(list)\n",
    "    \n",
    "    def add_edge(self, u, v):\n",
    "        self.graph[u].append(v)\n",
    "    \n",
    "    def dfs(self, v, visited):\n",
    "        visited.add(v)\n",
    "        print(v, end=\" \")\n",
    "        \n",
    "        for neighbour in self.graph[v]:\n",
    "            if neighbour not in visited:\n",
    "                self.dfs(neighbour, visited)\n",
    "    def DFS(self, v):\n",
    "        visited = set()\n",
    "        self.dfs(v, visited)"
   ]
  },
  {
   "cell_type": "code",
   "execution_count": 8,
   "id": "6e80ea25",
   "metadata": {},
   "outputs": [],
   "source": [
    "g = Graph()\n",
    "g.add_edge(1, 2)\n",
    "g.add_edge(1, 4)\n",
    "g.add_edge(2, 3)\n",
    "g.add_edge(1, 3)\n",
    "g.add_edge(2, 4)"
   ]
  },
  {
   "cell_type": "code",
   "execution_count": 11,
   "id": "3e2b2c15",
   "metadata": {},
   "outputs": [
    {
     "name": "stdout",
     "output_type": "stream",
     "text": [
      "4 "
     ]
    }
   ],
   "source": [
    "g.DFS(4)"
   ]
  },
  {
   "cell_type": "markdown",
   "id": "fd4767aa",
   "metadata": {},
   "source": [
    "## Handling Disconnected Graphs in Depth First Search"
   ]
  },
  {
   "cell_type": "code",
   "execution_count": 12,
   "id": "224d7343",
   "metadata": {},
   "outputs": [],
   "source": [
    "from collections import defaultdict\n",
    "class Graph:\n",
    "    \n",
    "    def __init__(self):\n",
    "        self.graph = defaultdict(list)\n",
    "    \n",
    "    def add_edge(self, u, v):\n",
    "        self.graph[u].append(v)\n",
    "    \n",
    "    def dfs(self, v, visited):\n",
    "        visited.add(v)\n",
    "        print(v, end=\" \")\n",
    "        \n",
    "        for neighbour in self.graph[v]:\n",
    "            if neighbour not in visited:\n",
    "                self.dfs(neighbour, visited)\n",
    "    def DFS(self):\n",
    "        visited = set()\n",
    "        for v in self.graph:\n",
    "            if v not in visited:\n",
    "                self.dfs(v, visited)"
   ]
  },
  {
   "cell_type": "code",
   "execution_count": 13,
   "id": "b94f3409",
   "metadata": {},
   "outputs": [],
   "source": [
    "g = Graph()\n",
    "g.add_edge(1, 2)\n",
    "g.add_edge(1, 4)\n",
    "g.add_edge(2, 3)\n",
    "g.add_edge(1, 3)\n",
    "g.add_edge(2, 4)"
   ]
  },
  {
   "cell_type": "code",
   "execution_count": 17,
   "id": "f2fbb20d",
   "metadata": {},
   "outputs": [
    {
     "name": "stdout",
     "output_type": "stream",
     "text": [
      "1 2 3 4 "
     ]
    }
   ],
   "source": [
    "g.DFS()"
   ]
  },
  {
   "cell_type": "code",
   "execution_count": 16,
   "id": "cc30617e",
   "metadata": {},
   "outputs": [
    {
     "data": {
      "text/plain": [
       "defaultdict(list, {1: [2, 4, 3], 2: [3, 4], 3: [], 4: []})"
      ]
     },
     "execution_count": 16,
     "metadata": {},
     "output_type": "execute_result"
    }
   ],
   "source": [
    "g.graph"
   ]
  },
  {
   "cell_type": "code",
   "execution_count": null,
   "id": "7db5aec1",
   "metadata": {},
   "outputs": [],
   "source": []
  }
 ],
 "metadata": {
  "kernelspec": {
   "display_name": "Python 3",
   "language": "python",
   "name": "python3"
  },
  "language_info": {
   "codemirror_mode": {
    "name": "ipython",
    "version": 3
   },
   "file_extension": ".py",
   "mimetype": "text/x-python",
   "name": "python",
   "nbconvert_exporter": "python",
   "pygments_lexer": "ipython3",
   "version": "3.8.10"
  }
 },
 "nbformat": 4,
 "nbformat_minor": 5
}
