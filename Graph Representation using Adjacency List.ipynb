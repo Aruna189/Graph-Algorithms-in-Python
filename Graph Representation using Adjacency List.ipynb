{
 "cells": [
  {
   "cell_type": "markdown",
   "id": "fdf50e9c",
   "metadata": {},
   "source": [
    "# Representation of Graph using Adjacency List"
   ]
  },
  {
   "cell_type": "code",
   "execution_count": null,
   "id": "29af5a9b",
   "metadata": {},
   "outputs": [],
   "source": [
    "class AdjNode:\n",
    "    def __init__(self, data):\n",
    "        self.vertex = data\n",
    "        self.next = None\n",
    "\n",
    "class Graph:\n",
    "    def __init__(self, no_of_vertices):\n",
    "        self.V = no_of_vertices\n",
    "        self.graph = [None] * self.V\n",
    "\n",
    "    def add_edge(self, u, v):\n",
    "        # Adding u to the node graph\n",
    "        node = AdjNode(v)\n",
    "        node.next = self.graph[u]\n",
    "        self.graph[u] = node\n",
    "        # Adding v to the node graph\n",
    "        node = AdjNode(u)\n",
    "        node.next = self.graph[v]\n",
    "        self.graph[v] = node\n",
    "        \n",
    "    def print_node(self):\n",
    "        for i in range(self.V):\n",
    "          print(\"Adjacent nodes of node {} \\n head\".format(i), end=\"\")\n",
    "          temp = self.graph[i]\n",
    "          while temp:\n",
    "            print(\" -> {}\".format(temp.vertex), end=\"\")\n",
    "            temp = temp.next\n",
    "          print(\"\\n\")\n",
    "    v = 4\n",
    "graph = Graph(v)\n",
    "graph.add_edge(0,1)\n",
    "graph.add_edge(0,3)\n",
    "graph.add_edge(1,3)\n",
    "graph.add_edge(0,2)\n",
    "graph.add_edge(2,3)\n",
    "graph.print_node()"
   ]
  }
 ],
 "metadata": {
  "kernelspec": {
   "display_name": "Python 3",
   "language": "python",
   "name": "python3"
  },
  "language_info": {
   "codemirror_mode": {
    "name": "ipython",
    "version": 3
   },
   "file_extension": ".py",
   "mimetype": "text/x-python",
   "name": "python",
   "nbconvert_exporter": "python",
   "pygments_lexer": "ipython3",
   "version": "3.8.10"
  }
 },
 "nbformat": 4,
 "nbformat_minor": 5
}
