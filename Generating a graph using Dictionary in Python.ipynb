{
 "cells": [
  {
   "cell_type": "markdown",
   "id": "091267a6",
   "metadata": {},
   "source": [
    "#  Graph using Dictionary in Python"
   ]
  },
  {
   "cell_type": "code",
   "execution_count": 18,
   "id": "bc47fe9a",
   "metadata": {},
   "outputs": [],
   "source": [
    "from collections import defaultdict\n",
    "\n",
    "graph = defaultdict(list)\n",
    "\n",
    "def add_edge(graph, u, v):\n",
    "    graph[u].append(v)\n",
    "def generate_edge(graph):\n",
    "    edge = []\n",
    "    for node in graph:\n",
    "        for neighbour in graph[node]:\n",
    "            edge.append((node, neighbour))\n",
    "    return edge"
   ]
  },
  {
   "cell_type": "code",
   "execution_count": 19,
   "id": "617b84f1",
   "metadata": {},
   "outputs": [],
   "source": [
    "add_edge(graph, 1, 2)\n",
    "add_edge(graph, 1, 4)\n",
    "add_edge(graph, 2, 3)\n",
    "add_edge(graph, 1, 3)\n",
    "add_edge(graph, 2, 4)"
   ]
  },
  {
   "cell_type": "code",
   "execution_count": 20,
   "id": "1fe3c009",
   "metadata": {},
   "outputs": [
    {
     "data": {
      "text/plain": [
       "defaultdict(list, {1: [2, 4, 3], 2: [3, 4]})"
      ]
     },
     "execution_count": 20,
     "metadata": {},
     "output_type": "execute_result"
    }
   ],
   "source": [
    "graph"
   ]
  },
  {
   "cell_type": "code",
   "execution_count": 21,
   "id": "26722b72",
   "metadata": {},
   "outputs": [
    {
     "data": {
      "text/plain": [
       "[(1, 2), (1, 4), (1, 3), (2, 3), (2, 4)]"
      ]
     },
     "execution_count": 21,
     "metadata": {},
     "output_type": "execute_result"
    }
   ],
   "source": [
    "generate_edge(graph)"
   ]
  },
  {
   "cell_type": "markdown",
   "id": "0010abbc",
   "metadata": {},
   "source": [
    "## Finding path between two nodes"
   ]
  },
  {
   "cell_type": "code",
   "execution_count": 22,
   "id": "eecdbab8",
   "metadata": {},
   "outputs": [],
   "source": [
    "def find_path(graph, start, end, path = []):\n",
    "    path = path + [start]\n",
    "    if start == end:\n",
    "        return path\n",
    "    for node in graph[start]:\n",
    "        if node not in path :\n",
    "            new_path = find_path(graph, node, end, path)\n",
    "            if new_path:\n",
    "                return new_path"
   ]
  },
  {
   "cell_type": "code",
   "execution_count": 28,
   "id": "3f1b2d09",
   "metadata": {},
   "outputs": [
    {
     "data": {
      "text/plain": [
       "[1, 2, 4]"
      ]
     },
     "execution_count": 28,
     "metadata": {},
     "output_type": "execute_result"
    }
   ],
   "source": [
    "find_path(graph, 1, 4)"
   ]
  },
  {
   "cell_type": "markdown",
   "id": "2eafb692",
   "metadata": {},
   "source": [
    "## Finding all paths between two nodes"
   ]
  },
  {
   "cell_type": "code",
   "execution_count": 37,
   "id": "81fa241c",
   "metadata": {},
   "outputs": [],
   "source": [
    "def find_all_paths(graph, start, end, path = []):\n",
    "    path = path + [start]\n",
    "    if start == end:\n",
    "        return [path]\n",
    "    paths = []\n",
    "    for node in graph[start]:\n",
    "        if node not in path :\n",
    "            newpath = find_all_paths(graph, node, end , path)\n",
    "        for n in newpath:\n",
    "            paths.append(n)\n",
    "    return paths"
   ]
  },
  {
   "cell_type": "code",
   "execution_count": 38,
   "id": "335f28cc",
   "metadata": {},
   "outputs": [
    {
     "data": {
      "text/plain": [
       "[[1, 2, 4], [1, 4]]"
      ]
     },
     "execution_count": 38,
     "metadata": {},
     "output_type": "execute_result"
    }
   ],
   "source": [
    "find_all_paths(graph, 1, 4)"
   ]
  },
  {
   "cell_type": "markdown",
   "id": "c1a79ac2",
   "metadata": {},
   "source": [
    "## Finding the shortest path between two nodes"
   ]
  },
  {
   "cell_type": "code",
   "execution_count": 39,
   "id": "5b2c6bf4",
   "metadata": {},
   "outputs": [],
   "source": [
    "def find_shortest_path(graph, start, end, path=[]):\n",
    "    path = path +[start]\n",
    "    if start == end:\n",
    "        return path\n",
    "    shortest = None\n",
    "    for node in graph[start]:\n",
    "        if node not in path:\n",
    "            newpath = find_shortest_path(graph, node, end, path)\n",
    "            if newpath:\n",
    "                if not shortest or len(newpath) < len(shortest):\n",
    "                    shortest = newpath\n",
    "    return shortest"
   ]
  },
  {
   "cell_type": "code",
   "execution_count": null,
   "id": "910d4997",
   "metadata": {},
   "outputs": [],
   "source": [
    "find_shortest"
   ]
  }
 ],
 "metadata": {
  "kernelspec": {
   "display_name": "Python 3",
   "language": "python",
   "name": "python3"
  },
  "language_info": {
   "codemirror_mode": {
    "name": "ipython",
    "version": 3
   },
   "file_extension": ".py",
   "mimetype": "text/x-python",
   "name": "python",
   "nbconvert_exporter": "python",
   "pygments_lexer": "ipython3",
   "version": "3.8.10"
  }
 },
 "nbformat": 4,
 "nbformat_minor": 5
}
