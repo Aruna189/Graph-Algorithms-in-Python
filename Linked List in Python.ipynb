{
 "cells": [
  {
   "cell_type": "markdown",
   "id": "dffd125f",
   "metadata": {},
   "source": [
    "## Linke"
   ]
  },
  {
   "cell_type": "code",
   "execution_count": 2,
   "id": "39133b74",
   "metadata": {},
   "outputs": [
    {
     "name": "stdout",
     "output_type": "stream",
     "text": [
      "9 18 54 27 "
     ]
    }
   ],
   "source": [
    "class node:\n",
    "    \n",
    "    def __init__(self, data):\n",
    "        self.data = data\n",
    "        self.next = None\n",
    "    \n",
    "class linked_list:\n",
    "    \n",
    "    def __init__(self):\n",
    "        self.head = None\n",
    "\n",
    "    def insert_front(self, d):\n",
    "        new = node(d)\n",
    "        new.next = self.head\n",
    "        self.head = new\n",
    "        \n",
    "    def insert_next_node(self, prev, d):\n",
    "        if prev is None:\n",
    "            return -1\n",
    "        new = node(d)\n",
    "        new.next = prev.next\n",
    "        prev.next = new\n",
    "    \n",
    "    def insert_last(self, d):\n",
    "        new = node(d)\n",
    "        if self.head is None:\n",
    "            self.head = new\n",
    "            return\n",
    "        last = self.head\n",
    "        while (last.next):\n",
    "            last = last.next\n",
    "        last.next = new\n",
    "    \n",
    "    def print_list(self):\n",
    "        temp = self.head\n",
    "        while(temp):\n",
    "            print(temp.data, end = \" \")\n",
    "            temp = temp.next\n",
    "link = linked_list()\n",
    "link.insert_front(18)\n",
    "link.insert_front(9)\n",
    "link.insert_last(27)\n",
    "link.insert_next_node(link.head.next, 54)\n",
    "link.print_list()"
   ]
  }
 ],
 "metadata": {
  "kernelspec": {
   "display_name": "Python 3",
   "language": "python",
   "name": "python3"
  },
  "language_info": {
   "codemirror_mode": {
    "name": "ipython",
    "version": 3
   },
   "file_extension": ".py",
   "mimetype": "text/x-python",
   "name": "python",
   "nbconvert_exporter": "python",
   "pygments_lexer": "ipython3",
   "version": "3.8.10"
  }
 },
 "nbformat": 4,
 "nbformat_minor": 5
}
